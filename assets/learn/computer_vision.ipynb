{
 "cells": [
  {
   "cell_type": "code",
   "execution_count": null,
   "metadata": {},
   "outputs": [],
   "source": [
    "import imageio\n",
    "import numpy as np\n",
    "import matplotlib.pyplot as plt\n",
    "\n",
    "reader = imageio.get_reader(r'C:\\xampp\\htdocs\\VISUALAI\\assets\\video\\walking people.mp4')\n",
    "prev_frame = None\n",
    "\n",
    "for frame in reader:\n",
    "    gray = np.mean(frame, axis=2)\n",
    "    if prev_frame is None:\n",
    "        prev_frame = gray\n",
    "        continue\n",
    "    diff = np.abs(gray - prev_frame)\n",
    "    mask = diff > 30\n",
    "    plt.imshow(mask, cmap='gray')\n",
    "    plt.pause(0.001)\n",
    "    prev_frame = gray\n"
   ]
  }
 ],
 "metadata": {
  "kernelspec": {
   "display_name": ".venv",
   "language": "python",
   "name": "python3"
  },
  "language_info": {
   "codemirror_mode": {
    "name": "ipython",
    "version": 3
   },
   "file_extension": ".py",
   "mimetype": "text/x-python",
   "name": "python",
   "nbconvert_exporter": "python",
   "pygments_lexer": "ipython3",
   "version": "3.10.11"
  }
 },
 "nbformat": 4,
 "nbformat_minor": 2
}
