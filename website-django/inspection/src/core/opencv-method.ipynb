{
 "cells": [
  {
   "cell_type": "code",
   "execution_count": null,
   "metadata": {},
   "outputs": [],
   "source": [
    "import cv2, numpy as np\n",
    "\n",
    "\n",
    "def equalize(img_org):\n",
    "    img_tmp = cv2.cvtColor(img_org, cv2.COLOR_BGR2GRAY)\n",
    "    img_tmp = cv2.equalizeHist(img_tmp)\n",
    "    count = np.array([[0, 0], [1279, 0], [1279, 340], [0, 340]])\n",
    "    img_tmp = cv2.fillPoly(img_tmp, pts=[count], color=(0))\n",
    "    return img_tmp\n",
    "\n",
    "\n",
    "def yellow(img_org):\n",
    "    img_hsv = cv2.cvtColor(img_org, cv2.COLOR_BGR2HSV)\n",
    "    lower_color = np.array([15, 100, 50], np.uint8)\n",
    "    upper_color = np.array([40, 200, 200], np.uint8)\n",
    "    img_mask = cv2.inRange(img_hsv, lower_color, upper_color)\n",
    "    img_tmp = cv2.bitwise_and(img_hsv, img_hsv, mask=img_mask)\n",
    "    img_tmp = cv2.cvtColor(img_tmp, cv2.COLOR_BGR2GRAY)\n",
    "    ret, img_tmp = cv2.threshold(img_tmp, 10, 256, cv2.THRESH_BINARY)\n",
    "    count = np.array([[0, 0], [1279, 0], [1279, 340], [0, 340]])\n",
    "    img_tmp = cv2.fillPoly(img_tmp, pts=[count], color=(0))\n",
    "    return img_tmp\n",
    "\n",
    "\n",
    "cap = cv2.VideoCapture(0)\n",
    "\n",
    "while cap.isOpened():\n",
    "  _, frame = cap.read()\n",
    "  img_tmp = equalize(frame)\n",
    "  img_yellow = yellow(frame)\n",
    "\n",
    "\n",
    "  cv2.imshow('yellow', img_yellow)\n",
    "  cv2.imshow('equalize', img_tmp)\n",
    "  cv2.imshow('original', frame)\n",
    "  if cv2.waitKey(1) & 0xFF == ord('n'):\n",
    "    break\n",
    "cap.release()\n",
    "cv2.destroyAllWindows()"
   ]
  },
  {
   "cell_type": "code",
   "execution_count": null,
   "metadata": {},
   "outputs": [],
   "source": [
    "import cv2\n",
    "import numpy as np\n",
    "\n",
    "# Buat gambar hitam\n",
    "img = np.zeros((400, 400, 3), dtype=np.uint8)\n",
    "\n",
    "# Definisikan titik-titik poligon\n",
    "pts = np.array([[50, 50], [300, 50], [200, 300]], np.int32)\n",
    "pts = pts.reshape((-1, 1, 2))\n",
    "\n",
    "# Isi poligon dengan warna hijau\n",
    "cv2.fillPoly(img, [pts], (0, 255, 0))\n",
    "\n",
    "cv2.imshow(\"Filled Polygon\", img)\n",
    "cv2.waitKey(0)\n",
    "cv2.destroyAllWindows()"
   ]
  }
 ],
 "metadata": {
  "kernelspec": {
   "display_name": ".venv",
   "language": "python",
   "name": "python3"
  },
  "language_info": {
   "codemirror_mode": {
    "name": "ipython",
    "version": 3
   },
   "file_extension": ".py",
   "mimetype": "text/x-python",
   "name": "python",
   "nbconvert_exporter": "python",
   "pygments_lexer": "ipython3",
   "version": "3.10.11"
  }
 },
 "nbformat": 4,
 "nbformat_minor": 2
}
