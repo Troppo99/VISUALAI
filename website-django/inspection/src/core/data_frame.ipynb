{
 "cells": [
  {
   "cell_type": "code",
   "execution_count": null,
   "metadata": {},
   "outputs": [],
   "source": [
    "import cv2\n",
    "import numpy as np\n",
    "import pandas as pd\n",
    "\n",
    "# Misal kita punya sebuah frame dari OpenCV\n",
    "frame = cv2.imread(r\"C:\\xampp\\htdocs\\VISUALAI\\website-django\\inspection\\src\\core\\img1.jpg\")  # Contoh, ganti path gambar\n",
    "h, w, c = frame.shape  # c biasanya 3 (B,G,R)\n",
    "\n",
    "# Buat grid koordinat x, y\n",
    "# np.indices menghasilkan matriks 2D, shape (2, height, width)\n",
    "coords = np.indices((h, w))\n",
    "# coords[0] berisi kumpulan y, coords[1] berisi kumpulan x\n",
    "y_coords = coords[0].flatten()\n",
    "x_coords = coords[1].flatten()\n",
    "\n",
    "# Flatten frame (H*W x 3)\n",
    "pixels = frame.reshape(-1, 3)\n",
    "# pixels[:, 0] = B, pixels[:, 1] = G, pixels[:, 2] = R\n",
    "\n",
    "# Buat DataFrame\n",
    "df = pd.DataFrame({\n",
    "    \"y\": y_coords,\n",
    "    \"x\": x_coords,\n",
    "    \"B\": pixels[:, 0],\n",
    "    \"G\": pixels[:, 1],\n",
    "    \"R\": pixels[:, 2]\n",
    "})\n",
    "\n",
    "print(df.head(10))\n",
    "print(\"Shape DataFrame:\", df.shape)\n"
   ]
  }
 ],
 "metadata": {
  "kernelspec": {
   "display_name": ".venv",
   "language": "python",
   "name": "python3"
  },
  "language_info": {
   "codemirror_mode": {
    "name": "ipython",
    "version": 3
   },
   "file_extension": ".py",
   "mimetype": "text/x-python",
   "name": "python",
   "nbconvert_exporter": "python",
   "pygments_lexer": "ipython3",
   "version": "3.10.11"
  }
 },
 "nbformat": 4,
 "nbformat_minor": 2
}
