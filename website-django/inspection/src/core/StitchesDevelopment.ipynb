{
 "cells": [
  {
   "cell_type": "code",
   "execution_count": null,
   "metadata": {},
   "outputs": [],
   "source": [
    "# Paling Efektif\n",
    "import cv2, numpy as np\n",
    "from sklearn.cluster import KMeans\n",
    "\n",
    "cap = cv2.VideoCapture(0)\n",
    "cv2.namedWindow(\"ori-blur-bin\", cv2.WINDOW_NORMAL)\n",
    "cv2.resizeWindow(\"ori-blur-bin\", (1280, 360))\n",
    "cv2.createTrackbar(\"Kernel Size\", \"ori-blur-bin\", 1, 31, lambda x: None)\n",
    "\n",
    "while cap.isOpened():\n",
    "    ret, frame = cap.read()\n",
    "    if not ret:\n",
    "        break\n",
    "    original_img = frame.copy()\n",
    "    k_val = cv2.getTrackbarPos(\"Kernel Size\", \"ori-blur-bin\")\n",
    "    if k_val % 2 == 0:\n",
    "        k_val += 1\n",
    "    if k_val <= 0:\n",
    "        k_val = 1\n",
    "    blurred_img = cv2.GaussianBlur(frame, (k_val, k_val), 5)\n",
    "    h, w = blurred_img.shape[:2]\n",
    "    data = blurred_img.reshape(-1, 3).astype(np.float32)\n",
    "\n",
    "    km = KMeans(n_clusters=2, random_state=42).fit(data)\n",
    "    labels = km.labels_.reshape(h, w)\n",
    "    centers = km.cluster_centers_\n",
    "\n",
    "    bright = []\n",
    "    for c in centers:\n",
    "        b, g, r = c  # format BGR\n",
    "        bright.append(0.114 * b + 0.587 * g + 0.299 * r)\n",
    "    # Cluster dengan kecerahan terendah dianggap garis\n",
    "    line_cluster = np.argmin(bright)\n",
    "\n",
    "    # Pixel pada cluster garis = hitam (0), selainnya putih (255)\n",
    "    mask = np.where(labels == line_cluster, 0, 255).astype(np.uint8)\n",
    "\n",
    "    cv2.imshow(\"ori-blur-bin\", np.hstack([original_img, blurred_img, cv2.cvtColor(mask, cv2.COLOR_GRAY2BGR)]))\n",
    "    if cv2.waitKey(1) & 0xFF == ord(\"n\"):\n",
    "        break\n",
    "cap.release()\n",
    "cv2.destroyAllWindows()"
   ]
  }
 ],
 "metadata": {
  "kernelspec": {
   "display_name": ".venv",
   "language": "python",
   "name": "python3"
  },
  "language_info": {
   "codemirror_mode": {
    "name": "ipython",
    "version": 3
   },
   "file_extension": ".py",
   "mimetype": "text/x-python",
   "name": "python",
   "nbconvert_exporter": "python",
   "pygments_lexer": "ipython3",
   "version": "3.10.11"
  }
 },
 "nbformat": 4,
 "nbformat_minor": 2
}
