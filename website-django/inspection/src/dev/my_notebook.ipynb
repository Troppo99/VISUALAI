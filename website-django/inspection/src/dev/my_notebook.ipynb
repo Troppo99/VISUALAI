{
 "cells": [
  {
   "cell_type": "code",
   "execution_count": null,
   "metadata": {},
   "outputs": [],
   "source": [
    "!pip list"
   ]
  },
  {
   "cell_type": "markdown",
   "metadata": {},
   "source": [
    "# **Pillow**"
   ]
  },
  {
   "cell_type": "code",
   "execution_count": 3,
   "metadata": {},
   "outputs": [],
   "source": [
    "from PIL import Image\n",
    "import os\n",
    "\n",
    "main_dir = r\"C:\\xampp\\htdocs\\VISUALAI\\website-django\\static\\images\\datasets\\defect_23_01_2025\\Broken\\test\"\n",
    "img_name = \"img1.jpg\"\n",
    "img = Image.open(os.path.join(main_dir, img_name))\n",
    "img.show()"
   ]
  },
  {
   "cell_type": "markdown",
   "metadata": {},
   "source": [
    "# **Canny**"
   ]
  },
  {
   "cell_type": "code",
   "execution_count": null,
   "metadata": {},
   "outputs": [],
   "source": [
    "import cv2, os\n",
    "from matplotlib import pyplot as plt\n",
    "\n",
    "main_dir = r\"C:\\xampp\\htdocs\\VISUALAI\\website-django\\static\\images\\datasets\\defect_23_01_2025\\Broken\\test\"\n",
    "img_name = \"img4.jpg\"\n",
    "img = cv2.imread(os.path.join(main_dir, img_name))\n",
    "img = cv2.cvtColor(img, cv2.COLOR_BGR2RGB)\n",
    "canny = cv2.Canny(img, 100, 200)\n",
    "\n",
    "titles = [\"image\", \"canny\"]\n",
    "images = [img, canny]\n",
    "for i in range(2):\n",
    "    plt.subplot(1, 2, i + 1), plt.imshow(images[i], \"gray\")\n",
    "    plt.title(titles[i])\n",
    "    plt.xticks([]), plt.yticks([])\n",
    "\n",
    "plt.show()"
   ]
  },
  {
   "cell_type": "markdown",
   "metadata": {},
   "source": [
    "# **Plt & CV2**"
   ]
  },
  {
   "cell_type": "code",
   "execution_count": null,
   "metadata": {},
   "outputs": [],
   "source": [
    "import cv2, os\n",
    "from matplotlib import pyplot as plt\n",
    "\n",
    "main_dir = r\"C:\\xampp\\htdocs\\VISUALAI\\website-django\\static\\images\\datasets\\defect_23_01_2025\\Broken\\test\"\n",
    "img_name = \"img4.jpg\"\n",
    "img = cv2.imread(os.path.join(main_dir, img_name))\n",
    "img_rgb = cv2.cvtColor(img, cv2.COLOR_BGR2RGB)\n",
    "canny = cv2.Canny(img_rgb, 100, 200)\n",
    "canny = cv2.resize(canny, (200, 200))\n",
    "\n",
    "cv2.imshow(\"first image\", cv2.resize(img, (500, 500)))\n",
    "cv2.waitKey(0)  # Ini harusnya pada\n",
    "cv2.destroyAllWindows()  # baris paling bawah\n",
    "\n",
    "plt.imshow(canny)\n",
    "plt.title(\"Gambar Matplotlib\")\n",
    "# plt.axis(\"off\")  # Menghilangkan axis\n",
    "plt.show()"
   ]
  },
  {
   "cell_type": "markdown",
   "metadata": {},
   "source": [
    "# ***Practice:1***"
   ]
  },
  {
   "cell_type": "code",
   "execution_count": null,
   "metadata": {},
   "outputs": [],
   "source": [
    "import cv2, os\n",
    "from matplotlib import pyplot as plt\n",
    "\n",
    "main_dir = r\"C:\\xampp\\htdocs\\VISUALAI\\website-django\\static\\images\\datasets\\defect_23_01_2025\\Broken\\test\"\n",
    "img_name = \"img4.jpg\"\n",
    "\n",
    "img_list = [\n",
    "              cv2.imread(os.path.join(main_dir, img_name)),\n",
    "              cv2.Canny(img, 100, 200),\n",
    "              cv2.GaussianBlur(img, (5,5), 1,4),\n",
    "]\n",
    "for i in range(len(img_list)):\n",
    "  plt.subplot(1,3,i+1)\n",
    "  plt.imshow(img_list[i])\n",
    "  plt.axis(\"off\")\n"
   ]
  }
 ],
 "metadata": {
  "kernelspec": {
   "display_name": ".venv",
   "language": "python",
   "name": "python3"
  },
  "language_info": {
   "codemirror_mode": {
    "name": "ipython",
    "version": 3
   },
   "file_extension": ".py",
   "mimetype": "text/x-python",
   "name": "python",
   "nbconvert_exporter": "python",
   "pygments_lexer": "ipython3",
   "version": "3.10.11"
  }
 },
 "nbformat": 4,
 "nbformat_minor": 2
}
